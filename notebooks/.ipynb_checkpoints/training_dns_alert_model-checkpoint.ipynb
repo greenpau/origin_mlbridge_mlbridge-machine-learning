{
 "cells": [
  {
   "cell_type": "markdown",
   "metadata": {
    "pycharm": {
     "name": "#%% md\n"
    }
   },
   "source": [
    "### Importing Libraries"
   ]
  },
  {
   "cell_type": "code",
   "execution_count": 1,
   "metadata": {
    "pycharm": {
     "is_executing": true
    }
   },
   "outputs": [
    {
     "name": "stdout",
     "output_type": "stream",
     "text": [
      "Version: 1.15.0\n"
     ]
    }
   ],
   "source": [
    "import numpy as np\n",
    "import tensorflow as tf\n",
    "from IPython.display import HTML, display\n",
    "import tabulate\n",
    "import seaborn as sns\n",
    "from tensorflow.keras import layers, models, optimizers\n",
    "from tensorflow.keras import backend as K\n",
    "from tensorflow.keras import losses\n",
    "from tensorflow.keras.utils import plot_model\n",
    "from sklearn.metrics import confusion_matrix\n",
    "import matplotlib.pyplot as plt\n",
    "import pandas as pd\n",
    "import csv\n",
    "print(\"Version:\", tf.__version__)"
   ]
  },
  {
   "cell_type": "markdown",
   "metadata": {
    "pycharm": {
     "name": "#%%\n"
    }
   },
   "source": [
    "### Import the Data\n",
    "- string_to_ascii: Converts a string to an array of ASCII numbers.\n",
    "- import_data: Used to import txt domain data\n",
    "    - returns: ASCII data, labels of that data\n",
    "        - data_path: Path of the training data\n",
    "        - labels: Whether the domain names are from a malicious source or not (1 : yes)\n",
    "        - header: No of lines above the actual data\n",
    "        - lateral_skip: No of columns to skip\n",
    "        - no_of_entries: How much data to use for training\n",
    "        - csv_txt: csv or txt"
   ]
  },
  {
   "cell_type": "code",
   "execution_count": 2,
   "metadata": {},
   "outputs": [],
   "source": [
    "def string_to_ascii(string):\n",
    "    ascii_arr = np.zeros(len(string))\n",
    "    for i in range(len(string)):\n",
    "        ascii_arr[i] = ord(string[i])\n",
    "    return ascii_arr"
   ]
  },
  {
   "cell_type": "code",
   "execution_count": 6,
   "metadata": {
    "pycharm": {
     "name": "#%%\n"
    }
   },
   "outputs": [],
   "source": [
    "def import_data(data_path, labels, header, lateral_skip, no_of_entries, csv_txt):\n",
    "    \n",
    "    if csv_txt == 0:\n",
    "        data = open(data_path, \"r\")\n",
    "        data = list(data.readlines())\n",
    "    else:\n",
    "        data = open(data_path, 'rt')\n",
    "        reader = csv.reader(data, delimiter =',', quoting = csv.QUOTE_NONE)\n",
    "        data = list(reader)\n",
    "        data = list(np.asarray(data[:no_of_entries + header])[:, 1])\n",
    "        \n",
    "    ret_data = np.zeros((no_of_entries,256))\n",
    "    \n",
    "    \n",
    "    for i in range(header, no_of_entries + header):\n",
    "        ret_data[i - header, 0 : len(data[i].strip('\\\"'))] = string_to_ascii(data[i].strip('\\\"'))\n",
    "        \n",
    "    labels = np.ones((no_of_entries, 1)) * labels\n",
    "    \n",
    "    return ret_data, labels"
   ]
  },
  {
   "cell_type": "markdown",
   "metadata": {
    "pycharm": {
     "name": "#%% md\n"
    }
   },
   "source": [
    "### Creating the Testing , Training and Validation Data"
   ]
  },
  {
   "cell_type": "code",
   "execution_count": 20,
   "metadata": {},
   "outputs": [],
   "source": [
    "number_of_samples = 1000\n",
    "ret_data_mal, labels_mal = import_data('C:/Chanakya/Projects/coredns_dns_ml_firewall/Data/domain.txt', 1, 1, 0, int(number_of_samples/2), 0)\n",
    "ret_data_nmal, labels_nmal = import_data('C:/Chanakya/Projects/coredns_dns_ml_firewall/Data/top10milliondomains.csv', 0, 1, 1, int(number_of_samples/2), 1)"
   ]
  },
  {
   "cell_type": "code",
   "execution_count": 202,
   "metadata": {
    "pycharm": {
     "name": "#%%\n"
    }
   },
   "outputs": [
    {
     "name": "stdout",
     "output_type": "stream",
     "text": [
      "Train Shape: (800, 16, 16, 1) (800, 1)\n",
      "Validation Shape: (100, 16, 16, 1) (100, 1)\n",
      "Test Shape: (100, 16, 16, 1) (100, 1)\n"
     ]
    }
   ],
   "source": [
    "train_split = int(number_of_samples/2 * 0.8)\n",
    "valid_split = int(number_of_samples/2 * 0.9)\n",
    "test_split = int(number_of_samples/2)\n",
    "\n",
    "train_set = np.append(ret_data_mal[0:train_split], ret_data_nmal[0:train_split], axis = 0)\n",
    "train_set = np.reshape(train_set, (train_split * 2, 16, 16, 1))\n",
    "np.random.seed(43)\n",
    "np.random.shuffle(train_set)\n",
    "labels_train_set = np.append(labels_mal[0:train_split], labels_nmal[0:train_split], axis = 0)\n",
    "np.random.seed(43)\n",
    "np.random.shuffle(labels_train_set)\n",
    "\n",
    "valid_set = np.append(ret_data_mal[train_split:valid_split], ret_data_nmal[train_split:valid_split], axis = 0)\n",
    "valid_set = np.reshape(valid_set, ((valid_split - train_split) * 2, 16, 16, 1))\n",
    "np.random.seed(44)\n",
    "np.random.shuffle(valid_set)\n",
    "labels_valid_set = np.append(labels_mal[train_split:valid_split], labels_nmal[train_split:valid_split], axis = 0)\n",
    "np.random.seed(44)\n",
    "np.random.shuffle(labels_valid_set)\n",
    "\n",
    "test_set = np.append(ret_data_mal[valid_split:test_split], ret_data_nmal[valid_split:test_split], axis = 0)\n",
    "test_set = np.reshape(test_set, ((test_split - valid_split)*2, 16, 16, 1))\n",
    "np.random.seed(45)\n",
    "np.random.shuffle(test_set)\n",
    "labels_test_set = np.append(labels_mal[valid_split:test_split], labels_nmal[valid_split:test_split], axis = 0)\n",
    "np.random.seed(45)\n",
    "np.random.shuffle(labels_test_set)\n",
    "\n",
    "print('Train Shape:', np.shape(train_set), np.shape(labels_train_set))\n",
    "print('Validation Shape:', np.shape(valid_set), np.shape(labels_valid_set))\n",
    "print('Test Shape:', np.shape(test_set), np.shape(labels_test_set))"
   ]
  },
  {
   "cell_type": "markdown",
   "metadata": {
    "pycharm": {
     "name": "#%% md\n"
    }
   },
   "source": [
    "### Model Definition"
   ]
  },
  {
   "cell_type": "code",
   "execution_count": 2,
   "metadata": {},
   "outputs": [
    {
     "name": "stderr",
     "output_type": "stream",
     "text": [
      "WARNING: Logging before flag parsing goes to stderr.\n",
      "W0708 18:09:49.675223 10472 deprecation.py:506] From C:\\Users\\Chanakya\\AppData\\Roaming\\Python\\Python36\\site-packages\\tensorflow_core\\python\\ops\\resource_variable_ops.py:1630: calling BaseResourceVariable.__init__ (from tensorflow.python.ops.resource_variable_ops) with constraint is deprecated and will be removed in a future version.\n",
      "Instructions for updating:\n",
      "If using Keras pass *_constraint arguments to layers.\n",
      "W0708 18:09:50.087165 10472 deprecation.py:323] From C:\\Users\\Chanakya\\AppData\\Roaming\\Python\\Python36\\site-packages\\tensorflow_core\\python\\ops\\nn_impl.py:183: where (from tensorflow.python.ops.array_ops) is deprecated and will be removed in a future version.\n",
      "Instructions for updating:\n",
      "Use tf.where in 2.0, which has the same broadcast rule as np.where\n"
     ]
    }
   ],
   "source": [
    "model = models.Sequential(name = 'DNS_Alert_Net')\n",
    "model.add(layers.Conv2D(16, (2, 2), activation='relu', input_shape=(16, 16, 1)))\n",
    "model.add(layers.MaxPooling2D((2, 2)))\n",
    "model.add(layers.Conv2D(16 , (2, 2), activation='relu'))\n",
    "model.add(layers.MaxPooling2D((2, 2)))\n",
    "model.add(layers.Conv2D(8, (2, 2), activation='relu'))\n",
    "model.add(layers.Flatten())\n",
    "model.add(layers.Dense(8, activation='relu'))\n",
    "model.add(layers.Dense(1, activation='sigmoid'))\n",
    "adam_ = tf.keras.optimizers.Adam(lr = 0.001)\n",
    "model.compile(loss='binary_crossentropy', optimizer=adam_, metrics=['accuracy'])"
   ]
  },
  {
   "cell_type": "code",
   "execution_count": 3,
   "metadata": {
    "scrolled": false
   },
   "outputs": [
    {
     "name": "stdout",
     "output_type": "stream",
     "text": [
      "Model: \"DNS_Alert_Net\"\n",
      "_________________________________________________________________\n",
      "Layer (type)                 Output Shape              Param #   \n",
      "=================================================================\n",
      "conv2d (Conv2D)              (None, 15, 15, 16)        80        \n",
      "_________________________________________________________________\n",
      "max_pooling2d (MaxPooling2D) (None, 7, 7, 16)          0         \n",
      "_________________________________________________________________\n",
      "conv2d_1 (Conv2D)            (None, 6, 6, 16)          1040      \n",
      "_________________________________________________________________\n",
      "max_pooling2d_1 (MaxPooling2 (None, 3, 3, 16)          0         \n",
      "_________________________________________________________________\n",
      "conv2d_2 (Conv2D)            (None, 2, 2, 8)           520       \n",
      "_________________________________________________________________\n",
      "flatten (Flatten)            (None, 32)                0         \n",
      "_________________________________________________________________\n",
      "dense (Dense)                (None, 8)                 264       \n",
      "_________________________________________________________________\n",
      "dense_1 (Dense)              (None, 1)                 9         \n",
      "=================================================================\n",
      "Total params: 1,913\n",
      "Trainable params: 1,913\n",
      "Non-trainable params: 0\n",
      "_________________________________________________________________\n"
     ]
    }
   ],
   "source": [
    "model.summary()"
   ]
  },
  {
   "cell_type": "markdown",
   "metadata": {},
   "source": [
    "### Training"
   ]
  },
  {
   "cell_type": "code",
   "execution_count": 205,
   "metadata": {},
   "outputs": [
    {
     "name": "stdout",
     "output_type": "stream",
     "text": [
      "Train on 800 samples, validate on 100 samples\n",
      "Epoch 1/30\n",
      "800/800 [==============================] - 1s 1ms/sample - loss: 0.7253 - acc: 0.5800 - val_loss: 0.5280 - val_acc: 0.7400\n",
      "Epoch 2/30\n",
      "800/800 [==============================] - 0s 189us/sample - loss: 0.4727 - acc: 0.7563 - val_loss: 0.4125 - val_acc: 0.8200\n",
      "Epoch 3/30\n",
      "800/800 [==============================] - ETA: 0s - loss: 0.3897 - acc: 0.832 - 0s 186us/sample - loss: 0.3958 - acc: 0.8288 - val_loss: 0.3187 - val_acc: 0.8900\n",
      "Epoch 4/30\n",
      "800/800 [==============================] - 0s 191us/sample - loss: 0.3402 - acc: 0.8600 - val_loss: 0.2633 - val_acc: 0.9000\n",
      "Epoch 5/30\n",
      "800/800 [==============================] - 0s 196us/sample - loss: 0.3138 - acc: 0.8737 - val_loss: 0.2267 - val_acc: 0.9500\n",
      "Epoch 6/30\n",
      "800/800 [==============================] - 0s 165us/sample - loss: 0.2876 - acc: 0.8838 - val_loss: 0.2313 - val_acc: 0.9200\n",
      "Epoch 7/30\n",
      "800/800 [==============================] - 0s 194us/sample - loss: 0.2802 - acc: 0.8800 - val_loss: 0.1803 - val_acc: 0.9200\n",
      "Epoch 8/30\n",
      "800/800 [==============================] - 0s 194us/sample - loss: 0.2555 - acc: 0.8963 - val_loss: 0.1720 - val_acc: 0.9400\n",
      "Epoch 9/30\n",
      "800/800 [==============================] - 0s 197us/sample - loss: 0.2461 - acc: 0.8988 - val_loss: 0.1539 - val_acc: 0.9600\n",
      "Epoch 10/30\n",
      "800/800 [==============================] - 0s 196us/sample - loss: 0.2315 - acc: 0.9062 - val_loss: 0.1564 - val_acc: 0.9600\n",
      "Epoch 11/30\n",
      "800/800 [==============================] - 0s 221us/sample - loss: 0.2345 - acc: 0.8988 - val_loss: 0.1470 - val_acc: 0.9400\n",
      "Epoch 12/30\n",
      "800/800 [==============================] - 0s 201us/sample - loss: 0.2218 - acc: 0.9062 - val_loss: 0.1282 - val_acc: 0.9600\n",
      "Epoch 13/30\n",
      "800/800 [==============================] - 0s 163us/sample - loss: 0.2090 - acc: 0.9112 - val_loss: 0.1449 - val_acc: 0.9600\n",
      "Epoch 14/30\n",
      "800/800 [==============================] - 0s 170us/sample - loss: 0.2035 - acc: 0.9125 - val_loss: 0.1352 - val_acc: 0.9500\n",
      "Epoch 15/30\n",
      "800/800 [==============================] - 0s 204us/sample - loss: 0.1922 - acc: 0.9200 - val_loss: 0.1145 - val_acc: 0.9600\n",
      "Epoch 16/30\n",
      "800/800 [==============================] - 0s 205us/sample - loss: 0.1843 - acc: 0.9212 - val_loss: 0.1032 - val_acc: 0.9600\n",
      "Epoch 17/30\n",
      "800/800 [==============================] - 0s 174us/sample - loss: 0.1778 - acc: 0.9287 - val_loss: 0.1053 - val_acc: 0.9600\n",
      "Epoch 18/30\n",
      "800/800 [==============================] - 0s 200us/sample - loss: 0.1715 - acc: 0.9287 - val_loss: 0.1020 - val_acc: 0.9500\n",
      "Epoch 19/30\n",
      "800/800 [==============================] - 0s 184us/sample - loss: 0.1602 - acc: 0.9337 - val_loss: 0.1166 - val_acc: 0.9500\n",
      "Epoch 20/30\n",
      "800/800 [==============================] - 0s 169us/sample - loss: 0.1429 - acc: 0.9438 - val_loss: 0.1040 - val_acc: 0.9700\n",
      "Epoch 21/30\n",
      "800/800 [==============================] - 0s 183us/sample - loss: 0.1224 - acc: 0.9600 - val_loss: 0.1066 - val_acc: 0.9600\n",
      "Epoch 22/30\n",
      "800/800 [==============================] - 0s 210us/sample - loss: 0.1217 - acc: 0.9575 - val_loss: 0.0888 - val_acc: 0.9700\n",
      "Epoch 23/30\n",
      "800/800 [==============================] - 0s 201us/sample - loss: 0.1053 - acc: 0.9600 - val_loss: 0.0718 - val_acc: 0.9800\n",
      "Epoch 24/30\n",
      "800/800 [==============================] - ETA: 0s - loss: 0.0782 - acc: 0.975 - 0s 185us/sample - loss: 0.0809 - acc: 0.9737 - val_loss: 0.0939 - val_acc: 0.9800\n",
      "Epoch 25/30\n",
      "800/800 [==============================] - 0s 212us/sample - loss: 0.0744 - acc: 0.9762 - val_loss: 0.0703 - val_acc: 0.9800\n",
      "Epoch 26/30\n",
      "800/800 [==============================] - 0s 197us/sample - loss: 0.0650 - acc: 0.9787 - val_loss: 0.0382 - val_acc: 0.9900\n",
      "Epoch 27/30\n",
      "800/800 [==============================] - 0s 185us/sample - loss: 0.0606 - acc: 0.9787 - val_loss: 0.0414 - val_acc: 0.9800\n",
      "Epoch 28/30\n",
      "800/800 [==============================] - 0s 185us/sample - loss: 0.0502 - acc: 0.9875 - val_loss: 0.0494 - val_acc: 0.9800\n",
      "Epoch 29/30\n",
      "800/800 [==============================] - 0s 215us/sample - loss: 0.0466 - acc: 0.9850 - val_loss: 0.0737 - val_acc: 0.9800\n",
      "Epoch 30/30\n",
      "800/800 [==============================] - 0s 198us/sample - loss: 0.0436 - acc: 0.9862 - val_loss: 0.0898 - val_acc: 0.9800\n"
     ]
    }
   ],
   "source": [
    "save_callback = tf.keras.callbacks.ModelCheckpoint('dns_alert_model.hdf5', save_best_only=True, monitor='val_loss', mode='min')\n",
    "history = model.fit(train_set, labels_train_set, epochs=30, validation_data=(valid_set, labels_valid_set), callbacks=[save_callback])"
   ]
  },
  {
   "cell_type": "markdown",
   "metadata": {},
   "source": [
    "#### Training Graphs"
   ]
  },
  {
   "cell_type": "code",
   "execution_count": 292,
   "metadata": {
    "scrolled": true
   },
   "outputs": [
    {
     "data": {
      "image/png": "[encoded data removed]",
      "text/plain": [
       "<Figure size 1800x504 with 2 Axes>"
      ]
     },
     "metadata": {
      "needs_background": "light"
     },
     "output_type": "display_data"
    }
   ],
   "source": [
    "%matplotlib inline\n",
    "\n",
    "plt.rcParams[\"figure.figsize\"] = (25,7)\n",
    "\n",
    "plt.subplot(1, 2, 1)\n",
    "plt.plot(range(len(history.history['loss'])), history.history['loss'])\n",
    "plt.plot(history.history['val_loss'])\n",
    "plt.title('Model Loss', fontsize= 20)\n",
    "plt.ylabel('Loss', fontsize= 18)\n",
    "plt.xlabel('Epochs', fontsize= 18)\n",
    "plt.legend(['Train','Validation'], loc='upper left', fontsize = 16)\n",
    "\n",
    "plt.subplot(1, 2, 2)\n",
    "plt.plot(range(len(history.history['acc'])), history.history['acc'])\n",
    "plt.plot(history.history['val_acc'])\n",
    "plt.title('Model Accuracy',fontsize= 20)\n",
    "plt.ylabel('Accuracy', fontsize= 18)\n",
    "plt.xlabel('Epochs', fontsize= 18)\n",
    "plt.legend(['Train','Validation'], loc='upper left', fontsize = 16)\n",
    "\n",
    "plt.show()"
   ]
  },
  {
   "cell_type": "markdown",
   "metadata": {},
   "source": [
    "### Evaluation"
   ]
  },
  {
   "cell_type": "markdown",
   "metadata": {},
   "source": [
    "#### Accuracy and Loss"
   ]
  },
  {
   "cell_type": "code",
   "execution_count": 278,
   "metadata": {},
   "outputs": [
    {
     "name": "stdout",
     "output_type": "stream",
     "text": [
      "800/800 [==============================] - 0s 165us/sample - loss: 0.0396 - acc: 0.9925\n",
      "100/100 [==============================] - 0s 201us/sample - loss: 0.0898 - acc: 0.9800\n",
      "100/100 [==============================] - 0s 252us/sample - loss: 0.0641 - acc: 0.9800\n"
     ]
    },
    {
     "data": {
      "text/html": [
       "<table>\n",
       "<tbody>\n",
       "<tr><td>Data Set      </td><td>Loss               </td><td>Accuracy (%)     </td></tr>\n",
       "<tr><td>Train Set     </td><td>0.03956181775778532</td><td>99.25000071525574</td></tr>\n",
       "<tr><td>Validation Set</td><td>0.08981606811285019</td><td>98.00000190734863</td></tr>\n",
       "<tr><td>Test Set      </td><td>0.06406462505459785</td><td>98.00000190734863</td></tr>\n",
       "</tbody>\n",
       "</table>"
      ],
      "text/plain": [
       "<IPython.core.display.HTML object>"
      ]
     },
     "metadata": {},
     "output_type": "display_data"
    }
   ],
   "source": [
    "loss_train, acc_train = model.evaluate(train_set, labels_train_set)\n",
    "loss_valid, acc_valid = model.evaluate(valid_set, labels_valid_set)\n",
    "loss_test, acc_test = model.evaluate(test_set,  labels_test_set)\n",
    "\n",
    "table = table = [[\"Data Set\",\"Loss\",\"Accuracy (%)\"],\n",
    "         [\"Train Set\",loss_train,acc_train * 100],\n",
    "         [\"Validation Set\",loss_valid,acc_valid * 100],\n",
    "         [\"Test Set\",loss_test,acc_test * 100]]\n",
    "\n",
    "display(HTML(tabulate.tabulate(table, tablefmt='html')))"
   ]
  },
  {
   "cell_type": "markdown",
   "metadata": {},
   "source": [
    "#### Confusion Matrix"
   ]
  },
  {
   "cell_type": "code",
   "execution_count": 290,
   "metadata": {},
   "outputs": [
    {
     "data": {
      "text/plain": [
       "<matplotlib.axes._subplots.AxesSubplot at 0x1fe16683cf8>"
      ]
     },
     "execution_count": 290,
     "metadata": {},
     "output_type": "execute_result"
    },
    {
     "data": {
      "image/png": "[encoded data removed]",
      "text/plain": [
       "<Figure size 1800x504 with 4 Axes>"
      ]
     },
     "metadata": {
      "needs_background": "light"
     },
     "output_type": "display_data"
    }
   ],
   "source": [
    "y_pred = model.predict(train_set)\n",
    "cf_matrix_train =confusion_matrix(labels_train_set,y_pred.round())\n",
    "\n",
    "plt.subplot(1,3,1)\n",
    "plt.title('Train Set', fontsize = 16)\n",
    "group_names = ['True Neg','False Pos','False Neg','True Pos']\n",
    "group_counts = [\"{0:0.0f}\".format(value) for value in cf_matrix_train.flatten()]\n",
    "group_percentages = [\"{0:.2%}\".format(value) for value in cf_matrix_train.flatten()/np.sum(cf_matrix_train)]\n",
    "labels = [f\"{v1}\\n{v2}\\n{v3}\" for v1, v2, v3 in zip(group_names,group_counts,group_percentages)]\n",
    "labels = np.asarray(labels).reshape(2,2)\n",
    "sns.heatmap(cf_matrix_train, annot=labels, fmt='', cmap='Blues', cbar=False)\n",
    "\n",
    "y_pred = model.predict(valid_set)\n",
    "cf_matrix_valid =confusion_matrix(labels_valid_set,y_pred.round())\n",
    "\n",
    "plt.subplot(1,3,2)\n",
    "plt.title('Validation Set', fontsize = 16)\n",
    "group_names = ['True Neg','False Pos','False Neg','True Pos']\n",
    "group_counts = [\"{0:0.0f}\".format(value) for value in cf_matrix_valid.flatten()]\n",
    "group_percentages = [\"{0:.2%}\".format(value) for value in cf_matrix_valid.flatten()/np.sum(cf_matrix_valid)]\n",
    "labels = [f\"{v1}\\n{v2}\\n{v3}\" for v1, v2, v3 in zip(group_names,group_counts,group_percentages)]\n",
    "labels = np.asarray(labels).reshape(2,2)\n",
    "sns.heatmap(cf_matrix_valid, annot=labels, fmt='', cmap='Blues', cbar=False)\n",
    "\n",
    "y_pred = model.predict(test_set)\n",
    "cf_matrix_test =confusion_matrix(labels_test_set,y_pred.round())\n",
    "\n",
    "plt.subplot(1,3,3)\n",
    "plt.title('Test Set', fontsize = 16)\n",
    "group_names = ['True Neg','False Pos','False Neg','True Pos']\n",
    "group_counts = [\"{0:0.0f}\".format(value) for value in cf_matrix_test.flatten()]\n",
    "group_percentages = [\"{0:.2%}\".format(value) for value in cf_matrix_test.flatten()/np.sum(cf_matrix_test)]\n",
    "labels = [f\"{v1}\\n{v2}\\n{v3}\" for v1, v2, v3 in zip(group_names,group_counts,group_percentages)]\n",
    "labels = np.asarray(labels).reshape(2,2)\n",
    "sns.heatmap(cf_matrix_test, annot=labels, fmt='', cmap='Blues', cbar=True)"
   ]
  },
  {
   "cell_type": "markdown",
   "metadata": {},
   "source": [
    "#### Accuracy, Prescision, Recall, F1 Score"
   ]
  },
  {
   "cell_type": "code",
   "execution_count": 295,
   "metadata": {},
   "outputs": [
    {
     "data": {
      "text/html": [
       "<table>\n",
       "<tbody>\n",
       "<tr><td>Data Set      </td><td>Accuracy</td><td>Prescision        </td><td>Recall</td><td>F1_Score          </td></tr>\n",
       "<tr><td>Train Set     </td><td>0.9925  </td><td>0.9900497512437811</td><td>0.995 </td><td>0.9925187032418954</td></tr>\n",
       "<tr><td>Validation Set</td><td>0.98    </td><td>0.9615384615384616</td><td>1.0   </td><td>0.9803921568627451</td></tr>\n",
       "<tr><td>Test Set      </td><td>0.98    </td><td>0.9615384615384616</td><td>1.0   </td><td>0.9803921568627451</td></tr>\n",
       "</tbody>\n",
       "</table>"
      ],
      "text/plain": [
       "<IPython.core.display.HTML object>"
      ]
     },
     "metadata": {},
     "output_type": "display_data"
    }
   ],
   "source": [
    "acc_train = (cf_matrix_train[0, 0] + cf_matrix_train[1,1]) / np.sum(cf_matrix_train)\n",
    "pres_train = (cf_matrix_train[1, 1]) / (cf_matrix_train[1, 1] + cf_matrix_train[0, 1])\n",
    "rec_train = (cf_matrix_train[1, 1]) / (cf_matrix_train[1, 1] + cf_matrix_train[1, 0])\n",
    "f1_train = 2 * rec_train * pres_train / (rec_train + pres_train)\n",
    "\n",
    "acc_valid = (cf_matrix_valid[0, 0] + cf_matrix_valid[1,1]) / np.sum(cf_matrix_valid)\n",
    "pres_valid = (cf_matrix_valid[1, 1]) / (cf_matrix_valid[1, 1] + cf_matrix_valid[0, 1])\n",
    "rec_valid = (cf_matrix_valid[1, 1]) / (cf_matrix_valid[1, 1] + cf_matrix_valid[1, 0])\n",
    "f1_valid = 2 * rec_valid * pres_valid / (rec_valid + pres_valid)\n",
    "\n",
    "acc_test = (cf_matrix_test[0, 0] + cf_matrix_test[1,1]) / np.sum(cf_matrix_test)\n",
    "pres_test = (cf_matrix_test[1, 1]) / (cf_matrix_test[1, 1] + cf_matrix_test[0, 1])\n",
    "rec_test = (cf_matrix_test[1, 1]) / (cf_matrix_test[1, 1] + cf_matrix_test[1, 0])\n",
    "f1_test = 2 * rec_test * pres_test / (rec_test + pres_test)\n",
    "\n",
    "table = [[\"Data Set\",\"Accuracy\",\"Prescision\", \"Recall\", \"F1_Score\"],\n",
    "         [\"Train Set\",acc_train, pres_train, rec_train, f1_train],\n",
    "         [\"Validation Set\",acc_valid, pres_valid, rec_valid, f1_valid],\n",
    "         [\"Test Set\",acc_test, pres_test, rec_test, f1_test ]]\n",
    "\n",
    "display(HTML(tabulate.tabulate(table, tablefmt='html')))"
   ]
  }
 ],
 "metadata": {
  "kernelspec": {
   "display_name": "Python 3",
   "language": "python",
   "name": "python3"
  },
  "language_info": {
   "codemirror_mode": {
    "name": "ipython",
    "version": 3
   },
   "file_extension": ".py",
   "mimetype": "text/x-python",
   "name": "python",
   "nbconvert_exporter": "python",
   "pygments_lexer": "ipython3",
   "version": "3.6.2"
  }
 },
 "nbformat": 4,
 "nbformat_minor": 1
}
